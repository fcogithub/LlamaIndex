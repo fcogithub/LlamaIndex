{
 "cells": [
  {
   "cell_type": "code",
   "execution_count": null,
   "metadata": {},
   "outputs": [],
   "source": [
    "from llama_index.core.node_parser.relational.llama_parse_python_files import LlamaParsePythonFile\n",
    "from llama_index.core.schema import NodeRelationship"
   ]
  },
  {
   "cell_type": "code",
   "execution_count": null,
   "metadata": {},
   "outputs": [],
   "source": [
    "parse = LlamaParsePythonFile()\n",
    "\n",
    "try:\n",
    "    nodes = parse.get_nodes_from_python_files(files=\"./\")\n",
    "except FileNotFoundError:\n",
    "    print(f\"You are too far from the .venv folder. Create one in the directory you are currently in...\")\n",
    "    raise FileNotFoundError\n",
    "\n",
    "for node in nodes:\n",
    "    if not NodeRelationship.REFERENCE in node.relationships: continue\n",
    "    print(node.relationships[NodeRelationship.REFERENCE])\n"
   ]
  },
  {
   "cell_type": "code",
   "execution_count": null,
   "metadata": {},
   "outputs": [],
   "source": []
  }
 ],
 "metadata": {
  "kernelspec": {
   "display_name": ".venv",
   "language": "python",
   "name": "python3"
  },
  "language_info": {
   "codemirror_mode": {
    "name": "ipython",
    "version": 3
   },
   "file_extension": ".py",
   "mimetype": "text/x-python",
   "name": "python",
   "nbconvert_exporter": "python",
   "pygments_lexer": "ipython3",
   "version": "3.12.3"
  }
 },
 "nbformat": 4,
 "nbformat_minor": 2
}
