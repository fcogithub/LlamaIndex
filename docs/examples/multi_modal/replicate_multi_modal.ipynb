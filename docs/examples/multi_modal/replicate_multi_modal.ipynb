{
 "cells": [
  {
   "cell_type": "markdown",
   "id": "368686b4-f487-4dd4-aeff-37823976529d",
   "metadata": {},
   "source": [
    "<a href=\"https://colab.research.google.com/github/run-llama/llama_index/blob/main/docs/examples/multi_modal/replicate_multi_modal.ipynb\" target=\"_parent\"><img src=\"https://colab.research.google.com/assets/colab-badge.svg\" alt=\"Open In Colab\"/></a>\n",
    "# Multi-Modal LLM using Replicate LlaVa, Fuyu 8B, MiniGPT4 models for image reasoning\n",
    "\n",
    "In this notebook, we show how to use MultiModal LLM class for image understanding/reasoning.\n",
    "We now support:\n",
    "* [LLava-13B](https://github.com/haotian-liu/LLaVA)\n",
    "* [Fuyu-8B](https://www.adept.ai/blog/fuyu-8b)\n",
    "* [MiniGPT-4](https://minigpt-4.github.io/)\n",
    "\n",
    "\n",
    "In the 2nd part, we show how to use stream complete and aync complate for Replicate.\n",
    "\n",
    "**NOTE**: At the moment, the Replicate multi-modal LLMs only support one image document at a time."
   ]
  },
  {
   "cell_type": "code",
   "execution_count": null,
   "id": "d9922041",
   "metadata": {},
   "outputs": [],
   "source": [
    "%pip install llama-index-multi-modal-llms-replicate"
   ]
  },
  {
   "cell_type": "code",
   "execution_count": null,
   "id": "fc691ca8",
   "metadata": {},
   "outputs": [],
   "source": [
    "%pip install replicate"
   ]
  },
  {
   "cell_type": "markdown",
   "id": "4479bf64",
   "metadata": {},
   "source": [
    "## Load and initialize Replicate"
   ]
  },
  {
   "cell_type": "code",
   "execution_count": null,
   "id": "5455d8c6",
   "metadata": {},
   "outputs": [],
   "source": [
    "import os\n",
    "import getpass\n",
    "\n",
    "REPLICATE_API_TOKEN = os.getenv(\"REPLICATE_API_TOKEN\")\n",
    "if not REPLICATE_API_TOKEN:\n",
    "    REPLICATE_API_TOKEN = getpass.getpass(prompt=\"REPLICATE_API_TOKEN not found. Please enter your token: \")\n",
    "\n",
    "# If you are using Google Colab, you can use the following code to set the environment variable\n",
    "# from google.colab import userdata\n",
    "# os.environ[\"REPLICATE_API_TOKEN\"] = userdata.get('REPLICATE_API_TOKEN')"
   ]
  },
  {
   "cell_type": "markdown",
   "id": "e868ebdf",
   "metadata": {},
   "source": [
    "## Download Images and Load Images locally"
   ]
  },
  {
   "cell_type": "code",
   "execution_count": null,
   "id": "e3570529",
   "metadata": {},
   "outputs": [],
   "source": [
    "import os\n",
    "from PIL import Image\n",
    "import requests\n",
    "from io import BytesIO\n",
    "\n",
    "from llama_index.core.multi_modal_llms.generic_utils import load_image_urls\n",
    "from llama_index.core.schema import ImageDocument\n",
    "\n",
    "\n",
    "if not os.path.exists(\"test_images\"):\n",
    "    os.makedirs(\"test_images\")\n",
    "\n",
    "# for now fuyu-8b model on replicate can mostly handle JPG image urls well instead of local files\n",
    "image_urls = [\n",
    "    # \"https://www.visualcapitalist.com/wp-content/uploads/2023/10/US_Mortgage_Rate_Surge-Sept-11-1.jpg\",\n",
    "    \"https://www.sportsnet.ca/wp-content/uploads/2023/11/CP1688996471-1040x572.jpg\",\n",
    "    \"https://res.cloudinary.com/hello-tickets/image/upload/c_limit,f_auto,q_auto,w_1920/v1640835927/o3pfl41q7m5bj8jardk0.jpg\",\n",
    "    \"https://www.cleverfiles.com/howto/wp-content/uploads/2018/03/minion.jpg\",\n",
    "]\n",
    "# save images\n",
    "for idx, image_url in enumerate(image_urls):\n",
    "    response = requests.get(image_url)\n",
    "    img = Image.open(BytesIO(response.content))\n",
    "    img.save(f\"test_images/{idx}.png\")\n",
    "\n",
    "# option 1: load images from urls directly\n",
    "# image_documents = load_image_urls(image_urls)\n",
    "# option 2: load images from local\n",
    "image_documents = [\n",
    "    ImageDocument(image_path=f\"test_images/{idx}.png\")\n",
    "    for idx in range(len(image_urls))\n",
    "]"
   ]
  },
  {
   "cell_type": "markdown",
   "id": "04d16500",
   "metadata": {},
   "source": [
    "### Visualize images"
   ]
  },
  {
   "cell_type": "code",
   "execution_count": null,
   "id": "5508524c",
   "metadata": {},
   "outputs": [],
   "source": [
    "import matplotlib.pyplot as plt\n",
    "from llama_index.core.response.notebook_utils import display_image_uris\n",
    "\n",
    "image_paths = [str(img_doc.image_path) for img_doc in image_documents]\n",
    "display_image_uris(image_paths)"
   ]
  },
  {
   "cell_type": "markdown",
   "id": "09c2ff7e",
   "metadata": {},
   "source": [
    "## Provide various prompts to test different Multi Modal LLMs"
   ]
  },
  {
   "cell_type": "code",
   "execution_count": null,
   "id": "99e2a657",
   "metadata": {},
   "outputs": [],
   "source": [
    "from llama_index.multi_modal_llms.replicate import ReplicateMultiModal\n",
    "from llama_index.multi_modal_llms.replicate.base import (\n",
    "    REPLICATE_MULTI_MODAL_LLM_MODELS,\n",
    ")\n",
    "\n",
    "prompts = [\n",
    "    \"what is shown in this image?\",\n",
    "    \"how many people are shown in the image?\",\n",
    "    \"is there anything unusual in the image?\",\n",
    "]"
   ]
  },
  {
   "cell_type": "markdown",
   "id": "7dbb0234",
   "metadata": {},
   "source": [
    "## Generate Image Reasoning from different LLMs with different prompts for different images"
   ]
  },
  {
   "cell_type": "code",
   "execution_count": null,
   "id": "cd64f515",
   "metadata": {},
   "outputs": [],
   "source": [
    "res = []\n",
    "for llm_idx, llm_model in enumerate(REPLICATE_MULTI_MODAL_LLM_MODELS):\n",
    "    for image_idx, image_doc in enumerate(image_documents):\n",
    "        for prompt_idx, prompt in enumerate(prompts):\n",
    "            try:\n",
    "                ## Initialize the MultiModal LLM model\n",
    "                multi_modal_llm = ReplicateMultiModal(\n",
    "                    model=REPLICATE_MULTI_MODAL_LLM_MODELS[llm_model],\n",
    "                    max_new_tokens=100,\n",
    "                    temperature=0.1,\n",
    "                    num_input_files=1,\n",
    "                    top_p=0.9,\n",
    "                    num_beams=1,\n",
    "                    repetition_penalty=1,\n",
    "                )\n",
    "\n",
    "                mm_resp = multi_modal_llm.complete(\n",
    "                    prompt=prompt,\n",
    "                    image_documents=[image_doc],\n",
    "                )\n",
    "            except Exception as e:\n",
    "                print(\n",
    "                    f\"Error with LLM model inference with prompt {prompt}, image {image_idx}, and MM model {llm_model}\"\n",
    "                )\n",
    "                print(\"Inference Failed due to: \", e)\n",
    "                continue\n",
    "            res.append(\n",
    "                {\n",
    "                    \"model\": llm_model,\n",
    "                    \"prompt\": prompt,\n",
    "                    \"response\": mm_resp,\n",
    "                    \"image\": str(image_doc.image_path),\n",
    "                }\n",
    "            )"
   ]
  },
  {
   "cell_type": "markdown",
   "id": "cef9d0f8",
   "metadata": {},
   "source": [
    "## Display Sampled Responses from Multi-Modal LLMs "
   ]
  },
  {
   "cell_type": "code",
   "execution_count": null,
   "id": "93f4e581",
   "metadata": {},
   "outputs": [],
   "source": [
    "from IPython.display import display\n",
    "import pandas as pd\n",
    "\n",
    "pd.options.display.max_colwidth = None\n",
    "df = pd.DataFrame(res)\n",
    "display(df[:5])"
   ]
  },
  {
   "cell_type": "markdown",
   "id": "01fb4562",
   "metadata": {},
   "source": [
    "## Human Label the Correctness and Relevance of the Multi-Modal LLM Reasoning Results\n",
    "Note that Human Lable could have some bias/subjectivity when label relevance and correctness.\n",
    "\n",
    "We label the Correctness and Relevance scores between [1, 5]\n",
    "\n",
    "* 5: perfectly answer the question\n",
    "* 4: somehow answer the question \n",
    "* 3: partly answer the question\n",
    "* 2: answer the question with wrong answer\n",
    "* 1: no answer or `hallucination`\n"
   ]
  },
  {
   "cell_type": "markdown",
   "id": "5c321426",
   "metadata": {},
   "source": [
    "| Model     | Prompt/Question                         | Model Reasoning Results                                                                                                                                                                                                                                                                                                                                                                                                                                                                                                    | Correctness and relevance [1,5] | image             |\n",
    "| --------- | --------------------------------------- | -------------------------------------------------------------------------------------------------------------------------------------------------------------------------------------------------------------------------------------------------------------------------------------------------------------------------------------------------------------------------------------------------------------------------------------------------------------------------------------------------------------------------- | ----------------------------------------------------------------------------------------------- | ----------------- |\n",
    "| llava-13b | what is shown in this image?            | The image shows a man holding a trophy, which appears to be a gold soccer ball. He is dressed in a suit and tie, and he is smiling as he holds the trophy.                                                                                                                                                                                                                                                                                                                                                                 | 4                                                                                               | test_images/0.png |\n",
    "| fuyu-8b   | what is shown in this image?            | \u0004 The image shows a man wearing a suit and holding a golden ball trophy.                                                                                                                                                                                                                                                                                                                                                                                                                                                   | 4                                                                                               | test_images/0.png |\n",
    "| minigpt-4 | what is shown in this image?            | The image shows a man in a black suit and tie holding a golden trophy.                                                                                                                                                                                                                                                                                                                                                                                                                                                     | 4                                                                                               | test_images/0.png |\n",
    "| llava-13b | what is shown in this image?            | The image shows a large, illuminated building, likely a historical monument or a famous landmark, at night. The building is lit up with colored lights, creating a visually striking scene.                                                                                                                                                                                                                                                                                                                                | 4                                                                                               | test_images/1.png |\n",
    "| fuyu-8b   | what is shown in this image?            | \u0004 The image showcases a city street at night, with colorful lights illuminating the scene. The street is lined with buildings, including a prominent Roman-style amphitheater.                                                                                                                                                                                                                                                                                                                                             | 4                                                                                               | test_images/1.png |\n",
    "| minigpt-4 | what is shown in this image?            | The image shows the Colosseum, a large amphitheater in Rome, Italy. It is one of the most famous landmarks in the city and is a popular tourist attraction.                                                                                                                                                                                                                                                                                                                                                                | 5                                                                                               | test_images/1.png |\n",
    "| llava-13b | what is shown in this image?            | The image shows two animated minion characters from the movie \"Despicable Me\" standing next to each other.                                                                                                                                                                                                                                                                                                                                                                                                                 | 5                                                                                               | test_images/2.png |\n",
    "| fuyu-8b   | what is shown in this image?            | \u0004 The image features two minion figures, one wearing overalls and the other wearing goggles. They are standing next to each other, possibly engaged in conversation or posing for a photo.                                                                                                                                                                                                                                                                                                                                 | 5                                                                                               | test_images/2.png |\n",
    "| minigpt-4 | what is shown in this image?            | The image shows two minions, one with a yellow overalls and the other with a blue overalls, both wearing sunglasses and standing next to each other.                                                                                                                                                                                                                                                                                                                                                                       | 4                                                                                               | test_images/2.png |\n",
    "| llava-13b | how many people are shown in the image? | There is only one person shown in the image, a man holding a trophy.                                                                                                                                                                                                                                                                                                                                                                                                                                                       | 5                                                                                               | test_images/0.png |\n",
    "| fuyu-8b   | how many people are shown in the image? | \u0004 In the image, there is a man wearing a suit and holding a golden ball or trophy.                                                                                                                                                                                                                                                                                                                                                                                                                                         | 5                                                                                               | test_images/0.png |\n",
    "| minigpt-4 | how many people are shown in the image? | I'm sorry, but I cannot see the image you provided. Can you please provide the image again?                                                                                                                                                                                                                                                                                                                                                                                                                                | NA                                                                                              | test_images/0.png |\n",
    "| llava-13b | how many people are shown in the image? | There are two people shown in the image.                                                                                                                                                                                                                                                                                                                                                                                                                                                                                   | 1                                                                                               | test_images/1.png |\n",
    "| fuyu-8b   | how many people are shown in the image? | \u0004 The image showcases a city street at night, with colorful lights illuminating the scene. The street is lined with buildings, including a prominent Roman-style amphitheater. \\\\n\\\\nThere are several people walking along the street, some carrying handbags. A few benches can be seen along the sidewalk, providing a place for pedestrians to rest. The atmosphere is lively, with people going about their daily activities.                                                                                         | 4                                                                                               | test_images/1.png |\n",
    "| minigpt-4 | how many people are shown in the image? | I'm sorry, but I cannot see the image you provided. Can you please provide more information or a different image?                                                                                                                                                                                                                                                                                                                                                                                                          | NA                                                                                              | test_images/1.png |\n",
    "| llava-13b | how many people are shown in the image? | There are two people shown in the image.                                                                                                                                                                                                                                                                                                                                                                                                                                                                                   | 4                                                                                               | test_images/2.png |\n",
    "| fuyu-8b   | how many people are shown in the image? | \u0004 There are two people shown in the image.                                                                                                                                                                                                                                                                                                                                                                                                                                                                                 | 4                                                                                               | test_images/2.png |\n",
    "| minigpt-4 | how many people are shown in the image? | There are two minions in the image.                                                                                                                                                                                                                                                                                                                                                                                                                                                                                        | 5                                                                                               | test_images/2.png |\n",
    "| llava-13b | is there anything unusual in the image? | Yes, there is an unusual element in the image. The man is holding a gold trophy, which is not uncommon. However, he is also holding a microphone, which is an unusual combination. Typically, a person holding a microphone would be a speaker or an announcer, while a trophy is usually associated with an award or achievement. The combination of the microphone and the trophy suggests that the man might be a presenter or an announcer who is also receiving an award or acknowledging someone else's achievement. | 4                                                                                               | test_images/0.png |\n",
    "| fuyu-8b   | is there anything unusual in the image? | \u0004 Yes, there is something unusual in the image, as there is a golden ball or trophy being held by a man wearing a suit. This is unusual because typically, sports balls or trophies are associated with competitions or achievements, rather than being worn by a person in a suit. The man holding the golden ball or trophy is wearing a suit, which adds to the peculiarity of the scene.                                                                                                                               | 3                                                                                               | test_images/0.png |\n",
    "| minigpt-4 | is there anything unusual in the image? | The image shows a man in a black suit and tie holding a golden trophy. The trophy has a design on it that looks like a soccer ball. The man is smiling and appears to be happy.                                                                                                                                                                                                                                                                                                                                            | 3                                                                                               | test_images/0.png |\n",
    "| llava-13b | is there anything unusual in the image? | Yes, there is an unusual aspect in the image. The Colosseum, a famous ancient Roman amphitheater, is lit up with colored lights, which is not a common sight. This illumination adds a unique and vibrant touch to the otherwise historical and majestic structure.                                                                                                                                                                                                                                                        | 4                                                                                               | test_images/1.png |\n",
    "| fuyu-8b   | is there anything unusual in the image? | \u0004 Yes, the image features an unusual scene, as multiple people are walking around the colossal structure, which is an old Roman amphitheater. The amphitheater is illuminated with colorful lights, giving it a vibrant and lively atmosphere.                                                                                                                                                                                                                                                                             | 3                                                                                               | test_images/1.png |\n",
    "| minigpt-4 | is there anything unusual in the image? | The image shows the Colosseum, a large amphitheater in Rome, Italy. It is a well known landmark and tourist attraction.                                                                                                                                                                                                                                                                                                                                                                                                    | 2                                                                                               | test_images/1.png |\n",
    "| llava-13b | is there anything unusual in the image? | Yes, there is something unusual in the image. The two cartoon minions are standing next to each other, but one of them has a tooth missing. This is an unusual detail, as it is not common for animated characters to have imperfections like missing teeth. The missing tooth adds a unique and interesting aspect to the image, making it stand out from typical animated scenes.                                                                                                                                        | 3                                                                                               | test_images/2.png |\n",
    "| fuyu-8b   | is there anything unusual in the image? | \u0004 Yes, there is an unusual aspect of the image, as there are two minions dressed in overalls, wearing goggles, and standing next to each other. This unusual combination is not typical, as minions are typically associated with their popular animation and movie franchises. The minions' overalls, goggles, and overalls-wearing, combined with the goggles they are wearing, adds to the peculiarity of the scene.                                                                                                    | 2                                                                                               | test_images/2.png |\n",
    "| minigpt-4 | is there anything unusual in the image? | The image appears to be a cartoon character with overalls and a yellow shirt. The character is smiling and has a blue hat on its head. There is nothing unusual in the image.                                                                                                                                                                                                                                                                                                                                              | 5                                                                                               | test_images/2.png |"
   ]
  },
  {
   "cell_type": "markdown",
   "id": "51a93be4",
   "metadata": {},
   "source": [
    "## Summary of preliminary findings with evaluated Multi-Modal Models\n",
    "\n",
    "First, the purpose of this notework is to show how to leverage Replicate for serving different Multi-Modal LLMs for image reasoning tasks. There are some limitations with such comparison:\n",
    "\n",
    "* We compared and evaluated LLaVa-13B, Fuyu-8B, and MiniGPT-4 for some simple and limited tasks/prompts. \n",
    "* Note that `the hyperparameters for different models are the same in the example`. The power of hyperparamters tuning could be significant for the quality MM LLMs models.\n",
    "* Human evaluation could have some Bias/Subjectivity/Noise\n",
    "\n",
    "\n",
    "Some preliminary findings:\n",
    "* `MiniGPT-4` sometimes can yield a more accurate answer like `There are two minions in the image.` instead of `There are two people shown in the image.` from `LlaVa` or `Fuyu-8B`. Another example is that `MiniGPT-4` answers `Colosseum` directly for the question `what is it in the image` for the Italy Colosseum image.\n",
    "* `MiniGPT-4` failed to give results for two prompts. It answers `I'm sorry, but I cannot see the image you provided.` But it can answer other questions for the same images. Not sure it is an issue of Replicate inference or MiniGPT-4 model itself\n",
    "* `Fuyu-8B` and `LlaVa-13B` usually yield longer verbose answers to the question with more context to support.\n",
    "* `Llava-13B` and `Fuyu-8B` sometimes yield slightly higher `hallucination` espeically for the question `is there anything unusual in the image?`\n"
   ]
  },
  {
   "cell_type": "markdown",
   "id": "bb915aae",
   "metadata": {},
   "source": [
    "## Replicate Stream Complete, Async Complete, Async Stream Complete Mode"
   ]
  },
  {
   "cell_type": "markdown",
   "id": "51161d09",
   "metadata": {},
   "source": [
    "### Init Fuyu-8B Model"
   ]
  },
  {
   "cell_type": "code",
   "execution_count": null,
   "id": "57bf3bb5",
   "metadata": {},
   "outputs": [],
   "source": [
    "multi_modal_llm = ReplicateMultiModal(\n",
    "    model=REPLICATE_MULTI_MODAL_LLM_MODELS[\"fuyu-8b\"],\n",
    "    max_new_tokens=100,\n",
    "    temperature=0.1,\n",
    "    num_input_files=1,\n",
    "    top_p=0.9,\n",
    "    num_beams=1,\n",
    "    repetition_penalty=1,\n",
    ")"
   ]
  },
  {
   "cell_type": "markdown",
   "id": "5d56bed6",
   "metadata": {},
   "source": [
    "### Using async stream complete"
   ]
  },
  {
   "cell_type": "code",
   "execution_count": null,
   "id": "484fbb16",
   "metadata": {},
   "outputs": [],
   "source": [
    "resp = await multi_modal_llm.astream_complete(\n",
    "    prompt=\"tell me about this image\",\n",
    "    image_documents=[image_documents[0]],\n",
    ")"
   ]
  },
  {
   "cell_type": "code",
   "execution_count": null,
   "id": "5059c60e",
   "metadata": {},
   "outputs": [],
   "source": [
    "async for delta in resp:\n",
    "    print(delta.delta, end=\"\")"
   ]
  },
  {
   "cell_type": "markdown",
   "id": "3c1f57e7",
   "metadata": {},
   "source": [
    "### Using async complete"
   ]
  },
  {
   "cell_type": "code",
   "execution_count": null,
   "id": "ee081c18",
   "metadata": {},
   "outputs": [],
   "source": [
    "resp = await multi_modal_llm.acomplete(\n",
    "    prompt=\"tell me about this image\",\n",
    "    image_documents=[image_documents[0]],\n",
    ")"
   ]
  },
  {
   "cell_type": "code",
   "execution_count": null,
   "id": "e55244c2",
   "metadata": {},
   "outputs": [],
   "source": [
    "print(resp)"
   ]
  },
  {
   "cell_type": "markdown",
   "id": "673d8b07",
   "metadata": {},
   "source": [
    "### Using stream complete"
   ]
  },
  {
   "cell_type": "code",
   "execution_count": null,
   "id": "8dde10d8",
   "metadata": {},
   "outputs": [],
   "source": [
    "resp = multi_modal_llm.stream_complete(\n",
    "    prompt=\"tell me about this image\",\n",
    "    image_documents=[image_documents[0]],\n",
    ")"
   ]
  },
  {
   "cell_type": "code",
   "execution_count": null,
   "id": "98f03545",
   "metadata": {},
   "outputs": [],
   "source": [
    "for delta in resp:\n",
    "    print(delta.delta, end=\"\")"
   ]
  }
 ],
 "metadata": {
  "kernelspec": {
   "display_name": "venv",
   "language": "python",
   "name": "python3"
  },
  "language_info": {
   "codemirror_mode": {
    "name": "ipython",
    "version": 3
   },
   "file_extension": ".py",
   "mimetype": "text/x-python",
   "name": "python",
   "nbconvert_exporter": "python",
   "pygments_lexer": "ipython3",
   "version": "3.10.13"
  }
 },
 "nbformat": 4,
 "nbformat_minor": 5
}
