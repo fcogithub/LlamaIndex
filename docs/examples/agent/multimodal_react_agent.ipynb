{
 "cells": [
  {
   "cell_type": "code",
   "execution_count": null,
   "id": "2f4cfb73-4acd-453f-9b5d-3a2bab96544f",
   "metadata": {},
   "outputs": [
    {
     "name": "stdout",
     "output_type": "stream",
     "text": [
      "MULTI MODAL CHAT: Describe me the image as an alternative text\n",
      "\u001b[1;3;38;5;200mThought: (Implicit) I can answer without any more tools!\n",
      "Response: The image shows a stylized llama portrayed in vibrant neon colors against a dark background\n",
      "\u001b[0mThe image shows a stylized llama portrayed in vibrant neon colors against a dark background\n"
     ]
    }
   ],
   "source": [
    "from llama_index.multi_modal_llms.openai import OpenAIMultiModal\n",
    "from llama_index import SimpleDirectoryReader\n",
    "from llama_index.agent import ReActAgent\n",
    "\n",
    "image_documents = SimpleDirectoryReader(\"./data\").load_data()\n",
    "\n",
    "# Create an OpenAI Multi-Modal LLM\n",
    "openai_multimodal_llm = OpenAIMultiModal()\n",
    "\n",
    "agent = ReActAgent.from_tools([], llm=openai_multimodal_llm, verbose=True)\n",
    "\n",
    "\n",
    "response = agent.query(\n",
    "    \"Describe me the image as an alternative text\",\n",
    "    image_documents=image_documents,\n",
    "    chat_history=[],\n",
    ")\n",
    "\n",
    "print(response)"
   ]
  }
 ],
 "metadata": {
  "kernelspec": {
   "display_name": "Python 3 (ipykernel)",
   "language": "python",
   "name": "python3"
  },
  "language_info": {
   "codemirror_mode": {
    "name": "ipython",
    "version": 3
   },
   "file_extension": ".py",
   "mimetype": "text/x-python",
   "name": "python",
   "nbconvert_exporter": "python",
   "pygments_lexer": "ipython3"
  }
 },
 "nbformat": 4,
 "nbformat_minor": 5
}
